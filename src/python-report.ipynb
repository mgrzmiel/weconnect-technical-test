{
 "cells": [
  {
   "cell_type": "markdown",
   "metadata": {},
   "source": [
    "# Technical Test for WEconnect "
   ]
  },
  {
   "cell_type": "markdown",
   "metadata": {},
   "source": [
    "### Author: Magdalena Grzmiel"
   ]
  },
  {
   "cell_type": "code",
   "execution_count": 6,
   "metadata": {},
   "outputs": [],
   "source": [
    "# import all libraries \n",
    "import pandas as pd\n",
    "import numpy as np\n",
    "import matplotlib.pyplot as plt \n",
    "%matplotlib inline\n",
    "import matplotlib as mpl\n",
    "mpl.style.use('seaborn')\n",
    "from pandas.api.types import CategoricalDtype"
   ]
  },
  {
   "cell_type": "markdown",
   "metadata": {},
   "source": [
    "## Load the data"
   ]
  },
  {
   "cell_type": "code",
   "execution_count": 7,
   "metadata": {},
   "outputs": [],
   "source": [
    "# get the header names for the data frames as defined in the src file\n",
    "flights_header_names = ['fid', 'month_id', 'day_of_month', 'day_of_week_id', 'carrier_id', 'flight_num',\n",
    "                        'origin_city', 'origin_state', 'dest_city', 'dest_state', 'departure_delay',\n",
    "                        'taxi_out', 'arrival_delay', 'canceled', 'actual_time', 'distance', 'capacity', 'price']\n",
    "\n",
    "carriers_header_names = ['cid', 'name']\n",
    "\n",
    "weekdays_header_names = ['did', 'day_of_week']\n",
    "\n",
    "# read the data from csv files\n",
    "df_flights = pd.read_csv('/Users/magdalena.grzmiel/Desktop/flight-dataset/flights-small.csv', sep=',', header=None, \n",
    "                         names=flights_header_names) \n",
    "df_carriers = pd.read_csv('/Users/magdalena.grzmiel/Desktop/flight-dataset/carriers.csv', sep=',', header=None, \n",
    "                         names=carriers_header_names) \n",
    "df_weekdays = pd.read_csv('/Users/magdalena.grzmiel/Desktop/flight-dataset/weekdays.csv', sep=',', header=None, \n",
    "                         names=weekdays_header_names) "
   ]
  },
  {
   "cell_type": "markdown",
   "metadata": {},
   "source": [
    "## Examine the data"
   ]
  },
  {
   "cell_type": "code",
   "execution_count": 8,
   "metadata": {},
   "outputs": [
    {
     "data": {
      "text/html": [
       "<div>\n",
       "<style scoped>\n",
       "    .dataframe tbody tr th:only-of-type {\n",
       "        vertical-align: middle;\n",
       "    }\n",
       "\n",
       "    .dataframe tbody tr th {\n",
       "        vertical-align: top;\n",
       "    }\n",
       "\n",
       "    .dataframe thead th {\n",
       "        text-align: right;\n",
       "    }\n",
       "</style>\n",
       "<table border=\"1\" class=\"dataframe\">\n",
       "  <thead>\n",
       "    <tr style=\"text-align: right;\">\n",
       "      <th></th>\n",
       "      <th>fid</th>\n",
       "      <th>month_id</th>\n",
       "      <th>day_of_month</th>\n",
       "      <th>day_of_week_id</th>\n",
       "      <th>carrier_id</th>\n",
       "      <th>flight_num</th>\n",
       "      <th>origin_city</th>\n",
       "      <th>origin_state</th>\n",
       "      <th>dest_city</th>\n",
       "      <th>dest_state</th>\n",
       "      <th>departure_delay</th>\n",
       "      <th>taxi_out</th>\n",
       "      <th>arrival_delay</th>\n",
       "      <th>canceled</th>\n",
       "      <th>actual_time</th>\n",
       "      <th>distance</th>\n",
       "      <th>capacity</th>\n",
       "      <th>price</th>\n",
       "    </tr>\n",
       "  </thead>\n",
       "  <tbody>\n",
       "    <tr>\n",
       "      <td>0</td>\n",
       "      <td>1</td>\n",
       "      <td>7</td>\n",
       "      <td>1</td>\n",
       "      <td>5</td>\n",
       "      <td>AA</td>\n",
       "      <td>1</td>\n",
       "      <td>New York NY</td>\n",
       "      <td>New York</td>\n",
       "      <td>Los Angeles CA</td>\n",
       "      <td>California</td>\n",
       "      <td>-4</td>\n",
       "      <td>29</td>\n",
       "      <td>9</td>\n",
       "      <td>0</td>\n",
       "      <td>360</td>\n",
       "      <td>2475</td>\n",
       "      <td>10</td>\n",
       "      <td>480</td>\n",
       "    </tr>\n",
       "    <tr>\n",
       "      <td>1</td>\n",
       "      <td>2</td>\n",
       "      <td>7</td>\n",
       "      <td>2</td>\n",
       "      <td>6</td>\n",
       "      <td>AA</td>\n",
       "      <td>1</td>\n",
       "      <td>New York NY</td>\n",
       "      <td>New York</td>\n",
       "      <td>Los Angeles CA</td>\n",
       "      <td>California</td>\n",
       "      <td>-7</td>\n",
       "      <td>13</td>\n",
       "      <td>-10</td>\n",
       "      <td>0</td>\n",
       "      <td>344</td>\n",
       "      <td>2475</td>\n",
       "      <td>11</td>\n",
       "      <td>817</td>\n",
       "    </tr>\n",
       "  </tbody>\n",
       "</table>\n",
       "</div>"
      ],
      "text/plain": [
       "   fid  month_id  day_of_month  day_of_week_id carrier_id  flight_num  \\\n",
       "0    1         7             1               5         AA           1   \n",
       "1    2         7             2               6         AA           1   \n",
       "\n",
       "   origin_city origin_state       dest_city  dest_state  departure_delay  \\\n",
       "0  New York NY     New York  Los Angeles CA  California               -4   \n",
       "1  New York NY     New York  Los Angeles CA  California               -7   \n",
       "\n",
       "   taxi_out  arrival_delay  canceled  actual_time  distance  capacity  price  \n",
       "0        29              9         0          360      2475        10    480  \n",
       "1        13            -10         0          344      2475        11    817  "
      ]
     },
     "execution_count": 8,
     "metadata": {},
     "output_type": "execute_result"
    }
   ],
   "source": [
    "df_flights.head(2)"
   ]
  },
  {
   "cell_type": "code",
   "execution_count": 11,
   "metadata": {},
   "outputs": [
    {
     "data": {
      "text/html": [
       "<div>\n",
       "<style scoped>\n",
       "    .dataframe tbody tr th:only-of-type {\n",
       "        vertical-align: middle;\n",
       "    }\n",
       "\n",
       "    .dataframe tbody tr th {\n",
       "        vertical-align: top;\n",
       "    }\n",
       "\n",
       "    .dataframe thead th {\n",
       "        text-align: right;\n",
       "    }\n",
       "</style>\n",
       "<table border=\"1\" class=\"dataframe\">\n",
       "  <thead>\n",
       "    <tr style=\"text-align: right;\">\n",
       "      <th></th>\n",
       "      <th>column name</th>\n",
       "      <th>dtype</th>\n",
       "    </tr>\n",
       "  </thead>\n",
       "  <tbody>\n",
       "    <tr>\n",
       "      <td>0</td>\n",
       "      <td>fid</td>\n",
       "      <td>int64</td>\n",
       "    </tr>\n",
       "    <tr>\n",
       "      <td>1</td>\n",
       "      <td>month_id</td>\n",
       "      <td>int64</td>\n",
       "    </tr>\n",
       "    <tr>\n",
       "      <td>2</td>\n",
       "      <td>day_of_month</td>\n",
       "      <td>int64</td>\n",
       "    </tr>\n",
       "    <tr>\n",
       "      <td>3</td>\n",
       "      <td>day_of_week_id</td>\n",
       "      <td>int64</td>\n",
       "    </tr>\n",
       "    <tr>\n",
       "      <td>4</td>\n",
       "      <td>carrier_id</td>\n",
       "      <td>object</td>\n",
       "    </tr>\n",
       "    <tr>\n",
       "      <td>5</td>\n",
       "      <td>flight_num</td>\n",
       "      <td>int64</td>\n",
       "    </tr>\n",
       "    <tr>\n",
       "      <td>6</td>\n",
       "      <td>origin_city</td>\n",
       "      <td>object</td>\n",
       "    </tr>\n",
       "    <tr>\n",
       "      <td>7</td>\n",
       "      <td>origin_state</td>\n",
       "      <td>object</td>\n",
       "    </tr>\n",
       "    <tr>\n",
       "      <td>8</td>\n",
       "      <td>dest_city</td>\n",
       "      <td>object</td>\n",
       "    </tr>\n",
       "    <tr>\n",
       "      <td>9</td>\n",
       "      <td>dest_state</td>\n",
       "      <td>object</td>\n",
       "    </tr>\n",
       "    <tr>\n",
       "      <td>10</td>\n",
       "      <td>departure_delay</td>\n",
       "      <td>int64</td>\n",
       "    </tr>\n",
       "    <tr>\n",
       "      <td>11</td>\n",
       "      <td>taxi_out</td>\n",
       "      <td>int64</td>\n",
       "    </tr>\n",
       "    <tr>\n",
       "      <td>12</td>\n",
       "      <td>arrival_delay</td>\n",
       "      <td>int64</td>\n",
       "    </tr>\n",
       "    <tr>\n",
       "      <td>13</td>\n",
       "      <td>canceled</td>\n",
       "      <td>int64</td>\n",
       "    </tr>\n",
       "    <tr>\n",
       "      <td>14</td>\n",
       "      <td>actual_time</td>\n",
       "      <td>int64</td>\n",
       "    </tr>\n",
       "    <tr>\n",
       "      <td>15</td>\n",
       "      <td>distance</td>\n",
       "      <td>int64</td>\n",
       "    </tr>\n",
       "    <tr>\n",
       "      <td>16</td>\n",
       "      <td>capacity</td>\n",
       "      <td>int64</td>\n",
       "    </tr>\n",
       "    <tr>\n",
       "      <td>17</td>\n",
       "      <td>price</td>\n",
       "      <td>int64</td>\n",
       "    </tr>\n",
       "  </tbody>\n",
       "</table>\n",
       "</div>"
      ],
      "text/plain": [
       "        column name   dtype\n",
       "0               fid   int64\n",
       "1          month_id   int64\n",
       "2      day_of_month   int64\n",
       "3    day_of_week_id   int64\n",
       "4        carrier_id  object\n",
       "5        flight_num   int64\n",
       "6       origin_city  object\n",
       "7      origin_state  object\n",
       "8         dest_city  object\n",
       "9        dest_state  object\n",
       "10  departure_delay   int64\n",
       "11         taxi_out   int64\n",
       "12    arrival_delay   int64\n",
       "13         canceled   int64\n",
       "14      actual_time   int64\n",
       "15         distance   int64\n",
       "16         capacity   int64\n",
       "17            price   int64"
      ]
     },
     "execution_count": 11,
     "metadata": {},
     "output_type": "execute_result"
    }
   ],
   "source": [
    "# get the data types for each variable in the data frame \n",
    "pd.DataFrame(data={'column name': df_flights.columns, 'dtype': df_flights.dtypes.values})"
   ]
  },
  {
   "cell_type": "code",
   "execution_count": 12,
   "metadata": {},
   "outputs": [
    {
     "data": {
      "text/plain": [
       "fid                0\n",
       "month_id           0\n",
       "day_of_month       0\n",
       "day_of_week_id     0\n",
       "carrier_id         0\n",
       "flight_num         0\n",
       "origin_city        0\n",
       "origin_state       0\n",
       "dest_city          0\n",
       "dest_state         0\n",
       "departure_delay    0\n",
       "taxi_out           0\n",
       "arrival_delay      0\n",
       "canceled           0\n",
       "actual_time        0\n",
       "distance           0\n",
       "capacity           0\n",
       "price              0\n",
       "dtype: int64"
      ]
     },
     "execution_count": 12,
     "metadata": {},
     "output_type": "execute_result"
    }
   ],
   "source": [
    "# check if tehre are any nulls\n",
    "df_flights.isnull().sum()"
   ]
  },
  {
   "cell_type": "code",
   "execution_count": 13,
   "metadata": {},
   "outputs": [
    {
     "data": {
      "text/plain": [
       "(1148675, 18)"
      ]
     },
     "execution_count": 13,
     "metadata": {},
     "output_type": "execute_result"
    }
   ],
   "source": [
    "# get the shape of the data frame\n",
    "df_flights.shape"
   ]
  },
  {
   "cell_type": "code",
   "execution_count": 14,
   "metadata": {},
   "outputs": [
    {
     "data": {
      "text/html": [
       "<div>\n",
       "<style scoped>\n",
       "    .dataframe tbody tr th:only-of-type {\n",
       "        vertical-align: middle;\n",
       "    }\n",
       "\n",
       "    .dataframe tbody tr th {\n",
       "        vertical-align: top;\n",
       "    }\n",
       "\n",
       "    .dataframe thead th {\n",
       "        text-align: right;\n",
       "    }\n",
       "</style>\n",
       "<table border=\"1\" class=\"dataframe\">\n",
       "  <thead>\n",
       "    <tr style=\"text-align: right;\">\n",
       "      <th></th>\n",
       "      <th>cid</th>\n",
       "      <th>name</th>\n",
       "    </tr>\n",
       "  </thead>\n",
       "  <tbody>\n",
       "    <tr>\n",
       "      <td>0</td>\n",
       "      <td>02Q</td>\n",
       "      <td>Titan Airways</td>\n",
       "    </tr>\n",
       "    <tr>\n",
       "      <td>1</td>\n",
       "      <td>04Q</td>\n",
       "      <td>Tradewind Aviation</td>\n",
       "    </tr>\n",
       "  </tbody>\n",
       "</table>\n",
       "</div>"
      ],
      "text/plain": [
       "   cid                name\n",
       "0  02Q       Titan Airways\n",
       "1  04Q  Tradewind Aviation"
      ]
     },
     "execution_count": 14,
     "metadata": {},
     "output_type": "execute_result"
    }
   ],
   "source": [
    "# display the carriers data\n",
    "df_carriers.head(2)"
   ]
  },
  {
   "cell_type": "code",
   "execution_count": 15,
   "metadata": {},
   "outputs": [
    {
     "data": {
      "text/html": [
       "<div>\n",
       "<style scoped>\n",
       "    .dataframe tbody tr th:only-of-type {\n",
       "        vertical-align: middle;\n",
       "    }\n",
       "\n",
       "    .dataframe tbody tr th {\n",
       "        vertical-align: top;\n",
       "    }\n",
       "\n",
       "    .dataframe thead th {\n",
       "        text-align: right;\n",
       "    }\n",
       "</style>\n",
       "<table border=\"1\" class=\"dataframe\">\n",
       "  <thead>\n",
       "    <tr style=\"text-align: right;\">\n",
       "      <th></th>\n",
       "      <th>did</th>\n",
       "      <th>day_of_week</th>\n",
       "    </tr>\n",
       "  </thead>\n",
       "  <tbody>\n",
       "    <tr>\n",
       "      <td>0</td>\n",
       "      <td>1</td>\n",
       "      <td>Monday</td>\n",
       "    </tr>\n",
       "    <tr>\n",
       "      <td>1</td>\n",
       "      <td>2</td>\n",
       "      <td>Tuesday</td>\n",
       "    </tr>\n",
       "  </tbody>\n",
       "</table>\n",
       "</div>"
      ],
      "text/plain": [
       "   did day_of_week\n",
       "0    1      Monday\n",
       "1    2     Tuesday"
      ]
     },
     "execution_count": 15,
     "metadata": {},
     "output_type": "execute_result"
    }
   ],
   "source": [
    "# display the weekdays data\n",
    "df_weekdays.head(2)"
   ]
  },
  {
   "cell_type": "code",
   "execution_count": 16,
   "metadata": {},
   "outputs": [],
   "source": [
    "# Join all 3 data frames into one dataframe\n",
    "df = df_flights.merge(df_carriers, left_on='carrier_id', right_on='cid', how='left')\n",
    "df = df.merge(df_weekdays, left_on='day_of_week_id', right_on='did', how='left')\n",
    "\n",
    "# rename the column names\n",
    "df.rename(columns={'name': 'carrier_name'}, inplace=True) \n",
    "# remove the duplicate columns\n",
    "df.drop(columns=['did', 'cid'], inplace = True)"
   ]
  },
  {
   "cell_type": "code",
   "execution_count": 17,
   "metadata": {},
   "outputs": [
    {
     "data": {
      "text/plain": [
       "(1148675, 20)"
      ]
     },
     "execution_count": 17,
     "metadata": {},
     "output_type": "execute_result"
    }
   ],
   "source": [
    "# get the shape of the data frame\n",
    "df.shape"
   ]
  },
  {
   "cell_type": "markdown",
   "metadata": {},
   "source": [
    "## Maximum price of tickets between Seattle, WA and New York, NY "
   ]
  },
  {
   "cell_type": "markdown",
   "metadata": {},
   "source": [
    "**Probelm:**\n",
    "\n",
    "Find the maximum price of tickets between Seattle and New York, NY for each carrier. "
   ]
  },
  {
   "cell_type": "code",
   "execution_count": 18,
   "metadata": {},
   "outputs": [
    {
     "data": {
      "text/html": [
       "<div>\n",
       "<style scoped>\n",
       "    .dataframe tbody tr th:only-of-type {\n",
       "        vertical-align: middle;\n",
       "    }\n",
       "\n",
       "    .dataframe tbody tr th {\n",
       "        vertical-align: top;\n",
       "    }\n",
       "\n",
       "    .dataframe thead th {\n",
       "        text-align: right;\n",
       "    }\n",
       "</style>\n",
       "<table border=\"1\" class=\"dataframe\">\n",
       "  <thead>\n",
       "    <tr style=\"text-align: right;\">\n",
       "      <th></th>\n",
       "      <th>carrier_name</th>\n",
       "      <th>max_price</th>\n",
       "    </tr>\n",
       "  </thead>\n",
       "  <tbody>\n",
       "    <tr>\n",
       "      <td>0</td>\n",
       "      <td>Delta Air Lines Inc.</td>\n",
       "      <td>999</td>\n",
       "    </tr>\n",
       "    <tr>\n",
       "      <td>1</td>\n",
       "      <td>JetBlue Airways</td>\n",
       "      <td>996</td>\n",
       "    </tr>\n",
       "    <tr>\n",
       "      <td>2</td>\n",
       "      <td>American Airlines Inc.</td>\n",
       "      <td>991</td>\n",
       "    </tr>\n",
       "  </tbody>\n",
       "</table>\n",
       "</div>"
      ],
      "text/plain": [
       "             carrier_name  max_price\n",
       "0    Delta Air Lines Inc.        999\n",
       "1         JetBlue Airways        996\n",
       "2  American Airlines Inc.        991"
      ]
     },
     "execution_count": 18,
     "metadata": {},
     "output_type": "execute_result"
    }
   ],
   "source": [
    "# Extract only the flights between Seattle, WA and New York, NY \n",
    "# and exclude the canceled flights:\n",
    "flights_sea_ny = df[(((df['origin_city']=='Seattle WA') & (df['dest_city']=='New York NY')) |\n",
    "                     ((df['origin_city']=='New York NY') & (df['dest_city']=='Seattle WA')) & \n",
    "                      (df['canceled']==0))]\n",
    "\n",
    "# get the max ticket price per carrier\n",
    "max_price_per_carrier = flights_sea_ny.groupby('carrier_name', \n",
    "                                                as_index=False)['price'].max().sort_values(by=['price'],\n",
    "                                                ascending=False).rename(columns={'price': 'max_price'})\n",
    "\n",
    "# reset index\n",
    "max_price_per_carrier.reset_index(drop=True, inplace=True)\n",
    "# display the results\n",
    "max_price_per_carrier "
   ]
  },
  {
   "cell_type": "code",
   "execution_count": 39,
   "metadata": {},
   "outputs": [
    {
     "data": {
      "image/png": "[encoded data removed]",
      "text/plain": [
       "<Figure size 576x396 with 1 Axes>"
      ]
     },
     "metadata": {},
     "output_type": "display_data"
    }
   ],
   "source": [
    "# visualize the data\n",
    "fig = plt.figure()\n",
    "ax = fig.add_axes([0,0,1,1])\n",
    "ax.bar(max_price_per_carrier.carrier_name, max_price_per_carrier.max_price)\n",
    "for i, row in max_price_per_carrier.iterrows():\n",
    "    v = int(row['max_price'])\n",
    "    ax.text(i - 0.1, v + 3, '$' + str(v), fontsize=14)\n",
    "ax.set_ylabel('Max Price', fontsize=14)\n",
    "ax.set_title('Max Ticket Price between Seattle to New York per Carrier', fontsize=18)\n",
    "plt.axis([-0.5, 2.5, 950, 1010])\n",
    "plt.xticks(fontsize=14)\n",
    "plt.yticks(fontsize=14)\n",
    "plt.show()"
   ]
  },
  {
   "cell_type": "markdown",
   "metadata": {},
   "source": [
    "## Average cost of a ticket by day of the week for direct flights from Seattle, WA to Boston, MA by Alaska Airlines Inc."
   ]
  },
  {
   "cell_type": "markdown",
   "metadata": {},
   "source": [
    "**Problem:**\n",
    "\n",
    "For all the direct flights from Seattle to Boston by Alaska Airlines Inc.,\n",
    "visualize the average cost of a ticket by day of the week."
   ]
  },
  {
   "cell_type": "code",
   "execution_count": 20,
   "metadata": {},
   "outputs": [],
   "source": [
    "# Get the average price of the ticket per week day\n",
    "avg_price_per_weekday = df[((df['origin_city']=='Seattle WA') \n",
    "                          & (df['dest_city']=='Boston MA')\n",
    "                          & (df['carrier_name']=='Alaska Airlines Inc.') \n",
    "                          & (df['canceled']==0))].groupby(['day_of_week'], \n",
    "                                as_index=False)['price'].mean().rename(columns={'price': 'avg_price'})"
   ]
  },
  {
   "cell_type": "code",
   "execution_count": 21,
   "metadata": {},
   "outputs": [
    {
     "data": {
      "text/html": [
       "<div>\n",
       "<style scoped>\n",
       "    .dataframe tbody tr th:only-of-type {\n",
       "        vertical-align: middle;\n",
       "    }\n",
       "\n",
       "    .dataframe tbody tr th {\n",
       "        vertical-align: top;\n",
       "    }\n",
       "\n",
       "    .dataframe thead th {\n",
       "        text-align: right;\n",
       "    }\n",
       "</style>\n",
       "<table border=\"1\" class=\"dataframe\">\n",
       "  <thead>\n",
       "    <tr style=\"text-align: right;\">\n",
       "      <th></th>\n",
       "      <th>day_of_week</th>\n",
       "      <th>avg_price</th>\n",
       "    </tr>\n",
       "  </thead>\n",
       "  <tbody>\n",
       "    <tr>\n",
       "      <td>0</td>\n",
       "      <td>Friday</td>\n",
       "      <td>536.80</td>\n",
       "    </tr>\n",
       "    <tr>\n",
       "      <td>1</td>\n",
       "      <td>Monday</td>\n",
       "      <td>519.20</td>\n",
       "    </tr>\n",
       "    <tr>\n",
       "      <td>2</td>\n",
       "      <td>Saturday</td>\n",
       "      <td>725.16</td>\n",
       "    </tr>\n",
       "    <tr>\n",
       "      <td>3</td>\n",
       "      <td>Sunday</td>\n",
       "      <td>563.08</td>\n",
       "    </tr>\n",
       "    <tr>\n",
       "      <td>4</td>\n",
       "      <td>Thursday</td>\n",
       "      <td>524.95</td>\n",
       "    </tr>\n",
       "    <tr>\n",
       "      <td>5</td>\n",
       "      <td>Tuesday</td>\n",
       "      <td>544.50</td>\n",
       "    </tr>\n",
       "    <tr>\n",
       "      <td>6</td>\n",
       "      <td>Wednesday</td>\n",
       "      <td>538.55</td>\n",
       "    </tr>\n",
       "  </tbody>\n",
       "</table>\n",
       "</div>"
      ],
      "text/plain": [
       "  day_of_week  avg_price\n",
       "0      Friday     536.80\n",
       "1      Monday     519.20\n",
       "2    Saturday     725.16\n",
       "3      Sunday     563.08\n",
       "4    Thursday     524.95\n",
       "5     Tuesday     544.50\n",
       "6   Wednesday     538.55"
      ]
     },
     "execution_count": 21,
     "metadata": {},
     "output_type": "execute_result"
    }
   ],
   "source": [
    "# display the data\n",
    "avg_price_per_weekday"
   ]
  },
  {
   "cell_type": "code",
   "execution_count": 22,
   "metadata": {},
   "outputs": [
    {
     "data": {
      "text/html": [
       "<div>\n",
       "<style scoped>\n",
       "    .dataframe tbody tr th:only-of-type {\n",
       "        vertical-align: middle;\n",
       "    }\n",
       "\n",
       "    .dataframe tbody tr th {\n",
       "        vertical-align: top;\n",
       "    }\n",
       "\n",
       "    .dataframe thead th {\n",
       "        text-align: right;\n",
       "    }\n",
       "</style>\n",
       "<table border=\"1\" class=\"dataframe\">\n",
       "  <thead>\n",
       "    <tr style=\"text-align: right;\">\n",
       "      <th></th>\n",
       "      <th>day_of_week</th>\n",
       "      <th>avg_price</th>\n",
       "    </tr>\n",
       "  </thead>\n",
       "  <tbody>\n",
       "    <tr>\n",
       "      <td>0</td>\n",
       "      <td>Sunday</td>\n",
       "      <td>563.08</td>\n",
       "    </tr>\n",
       "    <tr>\n",
       "      <td>1</td>\n",
       "      <td>Monday</td>\n",
       "      <td>519.20</td>\n",
       "    </tr>\n",
       "    <tr>\n",
       "      <td>2</td>\n",
       "      <td>Tuesday</td>\n",
       "      <td>544.50</td>\n",
       "    </tr>\n",
       "    <tr>\n",
       "      <td>3</td>\n",
       "      <td>Wednesday</td>\n",
       "      <td>538.55</td>\n",
       "    </tr>\n",
       "    <tr>\n",
       "      <td>4</td>\n",
       "      <td>Thursday</td>\n",
       "      <td>524.95</td>\n",
       "    </tr>\n",
       "    <tr>\n",
       "      <td>5</td>\n",
       "      <td>Friday</td>\n",
       "      <td>536.80</td>\n",
       "    </tr>\n",
       "    <tr>\n",
       "      <td>6</td>\n",
       "      <td>Saturday</td>\n",
       "      <td>725.16</td>\n",
       "    </tr>\n",
       "  </tbody>\n",
       "</table>\n",
       "</div>"
      ],
      "text/plain": [
       "  day_of_week  avg_price\n",
       "0      Sunday     563.08\n",
       "1      Monday     519.20\n",
       "2     Tuesday     544.50\n",
       "3   Wednesday     538.55\n",
       "4    Thursday     524.95\n",
       "5      Friday     536.80\n",
       "6    Saturday     725.16"
      ]
     },
     "execution_count": 22,
     "metadata": {},
     "output_type": "execute_result"
    }
   ],
   "source": [
    "# sort the data by the day of the week\n",
    "avg_price_per_weekday.day_of_week = pd.Categorical(\n",
    "    avg_price_per_weekday.day_of_week, \n",
    "    categories=['Sunday', 'Monday', 'Tuesday', 'Wednesday', 'Thursday', 'Friday', 'Saturday'],\n",
    "    ordered=True)\n",
    "\n",
    "avg_price_per_weekday=avg_price_per_weekday.sort_values(by=['day_of_week'])\n",
    "avg_price_per_weekday.reset_index(drop=True, inplace=True)\n",
    "avg_price_per_weekday"
   ]
  },
  {
   "cell_type": "code",
   "execution_count": 38,
   "metadata": {},
   "outputs": [
    {
     "data": {
      "image/png": "[encoded data removed]",
      "text/plain": [
       "<Figure size 576x396 with 1 Axes>"
      ]
     },
     "metadata": {},
     "output_type": "display_data"
    }
   ],
   "source": [
    "# visualize the data\n",
    "fig = plt.figure()\n",
    "ax = fig.add_axes([0,0,1.2,1.2])\n",
    "ax.barh(avg_price_per_weekday.day_of_week, avg_price_per_weekday.avg_price)\n",
    "ax.invert_yaxis()\n",
    "for i, row in avg_price_per_weekday.iterrows():\n",
    "    v = int(row['avg_price'])\n",
    "    ax.text(v - 65, i , '$' + str(v), color='white', fontsize=14)\n",
    "ax.set_xlabel('Average Price', fontsize=14)\n",
    "ax.set_title('Average price of flights from Seattle to Boston per Weekday for Alaska Airline', fontsize=18)\n",
    "plt.xticks(fontsize=14)\n",
    "plt.yticks(fontsize=14)\n",
    "plt.show()"
   ]
  },
  {
   "cell_type": "markdown",
   "metadata": {},
   "source": [
    "## Traveling as far as possible in the least amount of time from Seattle "
   ]
  },
  {
   "cell_type": "markdown",
   "metadata": {},
   "source": [
    "**Problem:**\n",
    "Which flights would you recommend to travel as far as possible in the least amount of time from Seattle?\n",
    "\n",
    "\n",
    "In order to recommend a flight which will allow us to travel as far as possible in the least amount of time we need to consider the relationship between two variables: the distance and the flight duration in minutes.\n",
    "\n",
    "The provided data set does not contain information about the expected time for each flight; however it does provide the actual time which can be used to answer this question.\n",
    "\n",
    "First, let subset only the relevant data for this analysis: all flights from Seattle which were not canceled. Include following columns: fid, flight_num, origin_city, dest_city, distance, carrier_id, actual_time, departure_delay and arrival_delay.\n"
   ]
  },
  {
   "cell_type": "code",
   "execution_count": 24,
   "metadata": {},
   "outputs": [],
   "source": [
    "df_sea_flights = df[(df['origin_city']=='Seattle WA') \n",
    "                  & (df['canceled']==0)][['fid', 'flight_num', 'origin_city', 'dest_city', 'distance', \n",
    "                                          'carrier_name', 'actual_time', 'departure_delay', 'arrival_delay']]"
   ]
  },
  {
   "cell_type": "markdown",
   "metadata": {},
   "source": [
    "Next, using the scatter plot visualize the relationship between the flight duration (actual time in minutes) and distance:"
   ]
  },
  {
   "cell_type": "code",
   "execution_count": 37,
   "metadata": {},
   "outputs": [
    {
     "data": {
      "image/png": "[encoded data removed]",
      "text/plain": [
       "<Figure size 576x396 with 1 Axes>"
      ]
     },
     "metadata": {},
     "output_type": "display_data"
    }
   ],
   "source": [
    "fig = plt.figure()\n",
    "ax = fig.add_axes([0,0,1.2,1.2])\n",
    "ax.scatter(df_sea_flights.actual_time, df_sea_flights.distance, alpha=0.2)\n",
    "ax.set_xlabel('Actual Time [in minutes]', fontsize=14)\n",
    "ax.set_ylabel('Distance [in miles]', fontsize=14)\n",
    "ax.set_title('Actual Time vs Distance', fontsize=18)\n",
    "plt.xticks(fontsize=14)\n",
    "plt.yticks(fontsize=14)\n",
    "plt.show()"
   ]
  },
  {
   "cell_type": "markdown",
   "metadata": {},
   "source": [
    "The chart shows there is a lot of noise in this dataset. There are long flights with many miles conquered in a short period of time and vice versa flights with many miles and long duration. All of those data points are most likely issues in how the data was collected rather than actual data and should not be included in our analysis.\n",
    "\n",
    "Before cleaning the data, let take a closer look at few examples. First, look at few flights which had very long distance and short flight duration:"
   ]
  },
  {
   "cell_type": "code",
   "execution_count": 26,
   "metadata": {},
   "outputs": [
    {
     "data": {
      "text/html": [
       "<div>\n",
       "<style scoped>\n",
       "    .dataframe tbody tr th:only-of-type {\n",
       "        vertical-align: middle;\n",
       "    }\n",
       "\n",
       "    .dataframe tbody tr th {\n",
       "        vertical-align: top;\n",
       "    }\n",
       "\n",
       "    .dataframe thead th {\n",
       "        text-align: right;\n",
       "    }\n",
       "</style>\n",
       "<table border=\"1\" class=\"dataframe\">\n",
       "  <thead>\n",
       "    <tr style=\"text-align: right;\">\n",
       "      <th></th>\n",
       "      <th>fid</th>\n",
       "      <th>flight_num</th>\n",
       "      <th>origin_city</th>\n",
       "      <th>dest_city</th>\n",
       "      <th>distance</th>\n",
       "      <th>carrier_name</th>\n",
       "      <th>actual_time</th>\n",
       "      <th>departure_delay</th>\n",
       "      <th>arrival_delay</th>\n",
       "    </tr>\n",
       "  </thead>\n",
       "  <tbody>\n",
       "    <tr>\n",
       "      <td>60384</td>\n",
       "      <td>60385</td>\n",
       "      <td>22</td>\n",
       "      <td>Seattle WA</td>\n",
       "      <td>Chicago IL</td>\n",
       "      <td>1721</td>\n",
       "      <td>Alaska Airlines Inc.</td>\n",
       "      <td>18</td>\n",
       "      <td>88</td>\n",
       "      <td>18</td>\n",
       "    </tr>\n",
       "    <tr>\n",
       "      <td>89556</td>\n",
       "      <td>89557</td>\n",
       "      <td>366</td>\n",
       "      <td>Seattle WA</td>\n",
       "      <td>Houston TX</td>\n",
       "      <td>1874</td>\n",
       "      <td>Continental Air Lines Inc.</td>\n",
       "      <td>92</td>\n",
       "      <td>-7</td>\n",
       "      <td>374</td>\n",
       "    </tr>\n",
       "    <tr>\n",
       "      <td>104817</td>\n",
       "      <td>104818</td>\n",
       "      <td>1580</td>\n",
       "      <td>Seattle WA</td>\n",
       "      <td>Newark NJ</td>\n",
       "      <td>2401</td>\n",
       "      <td>Continental Air Lines Inc.</td>\n",
       "      <td>15</td>\n",
       "      <td>10</td>\n",
       "      <td>59</td>\n",
       "    </tr>\n",
       "    <tr>\n",
       "      <td>490649</td>\n",
       "      <td>490650</td>\n",
       "      <td>942</td>\n",
       "      <td>Seattle WA</td>\n",
       "      <td>Chicago IL</td>\n",
       "      <td>1721</td>\n",
       "      <td>United Air Lines Inc.</td>\n",
       "      <td>22</td>\n",
       "      <td>143</td>\n",
       "      <td>33</td>\n",
       "    </tr>\n",
       "    <tr>\n",
       "      <td>706172</td>\n",
       "      <td>706173</td>\n",
       "      <td>788</td>\n",
       "      <td>Seattle WA</td>\n",
       "      <td>New Orleans LA</td>\n",
       "      <td>2086</td>\n",
       "      <td>Alaska Airlines Inc.</td>\n",
       "      <td>15</td>\n",
       "      <td>0</td>\n",
       "      <td>354</td>\n",
       "    </tr>\n",
       "    <tr>\n",
       "      <td>718260</td>\n",
       "      <td>718261</td>\n",
       "      <td>662</td>\n",
       "      <td>Seattle WA</td>\n",
       "      <td>Dallas/Fort Worth TX</td>\n",
       "      <td>1660</td>\n",
       "      <td>Alaska Airlines Inc.</td>\n",
       "      <td>149</td>\n",
       "      <td>48</td>\n",
       "      <td>393</td>\n",
       "    </tr>\n",
       "    <tr>\n",
       "      <td>1034747</td>\n",
       "      <td>1034748</td>\n",
       "      <td>392</td>\n",
       "      <td>Seattle WA</td>\n",
       "      <td>St. Louis MO</td>\n",
       "      <td>1709</td>\n",
       "      <td>Southwest Airlines Co.</td>\n",
       "      <td>110</td>\n",
       "      <td>1</td>\n",
       "      <td>451</td>\n",
       "    </tr>\n",
       "    <tr>\n",
       "      <td>1094625</td>\n",
       "      <td>1094626</td>\n",
       "      <td>4575</td>\n",
       "      <td>Seattle WA</td>\n",
       "      <td>Chicago IL</td>\n",
       "      <td>1733</td>\n",
       "      <td>Southwest Airlines Co.</td>\n",
       "      <td>128</td>\n",
       "      <td>18</td>\n",
       "      <td>385</td>\n",
       "    </tr>\n",
       "    <tr>\n",
       "      <td>1143359</td>\n",
       "      <td>1143360</td>\n",
       "      <td>2615</td>\n",
       "      <td>Seattle WA</td>\n",
       "      <td>Baltimore MD</td>\n",
       "      <td>2335</td>\n",
       "      <td>Southwest Airlines Co.</td>\n",
       "      <td>46</td>\n",
       "      <td>-1</td>\n",
       "      <td>81</td>\n",
       "    </tr>\n",
       "  </tbody>\n",
       "</table>\n",
       "</div>"
      ],
      "text/plain": [
       "             fid  flight_num origin_city             dest_city  distance  \\\n",
       "60384      60385          22  Seattle WA            Chicago IL      1721   \n",
       "89556      89557         366  Seattle WA            Houston TX      1874   \n",
       "104817    104818        1580  Seattle WA             Newark NJ      2401   \n",
       "490649    490650         942  Seattle WA            Chicago IL      1721   \n",
       "706172    706173         788  Seattle WA        New Orleans LA      2086   \n",
       "718260    718261         662  Seattle WA  Dallas/Fort Worth TX      1660   \n",
       "1034747  1034748         392  Seattle WA          St. Louis MO      1709   \n",
       "1094625  1094626        4575  Seattle WA            Chicago IL      1733   \n",
       "1143359  1143360        2615  Seattle WA          Baltimore MD      2335   \n",
       "\n",
       "                       carrier_name  actual_time  departure_delay  \\\n",
       "60384          Alaska Airlines Inc.           18               88   \n",
       "89556    Continental Air Lines Inc.           92               -7   \n",
       "104817   Continental Air Lines Inc.           15               10   \n",
       "490649        United Air Lines Inc.           22              143   \n",
       "706172         Alaska Airlines Inc.           15                0   \n",
       "718260         Alaska Airlines Inc.          149               48   \n",
       "1034747      Southwest Airlines Co.          110                1   \n",
       "1094625      Southwest Airlines Co.          128               18   \n",
       "1143359      Southwest Airlines Co.           46               -1   \n",
       "\n",
       "         arrival_delay  \n",
       "60384               18  \n",
       "89556              374  \n",
       "104817              59  \n",
       "490649              33  \n",
       "706172             354  \n",
       "718260             393  \n",
       "1034747            451  \n",
       "1094625            385  \n",
       "1143359             81  "
      ]
     },
     "execution_count": 26,
     "metadata": {},
     "output_type": "execute_result"
    }
   ],
   "source": [
    "df_sea_flights[(df_sea_flights['distance']>=1500) & (df_sea_flights['actual_time']<150)]"
   ]
  },
  {
   "cell_type": "markdown",
   "metadata": {},
   "source": [
    "Next let take a look at the flights with long duration and very small distance:"
   ]
  },
  {
   "cell_type": "code",
   "execution_count": 27,
   "metadata": {},
   "outputs": [
    {
     "data": {
      "text/html": [
       "<div>\n",
       "<style scoped>\n",
       "    .dataframe tbody tr th:only-of-type {\n",
       "        vertical-align: middle;\n",
       "    }\n",
       "\n",
       "    .dataframe tbody tr th {\n",
       "        vertical-align: top;\n",
       "    }\n",
       "\n",
       "    .dataframe thead th {\n",
       "        text-align: right;\n",
       "    }\n",
       "</style>\n",
       "<table border=\"1\" class=\"dataframe\">\n",
       "  <thead>\n",
       "    <tr style=\"text-align: right;\">\n",
       "      <th></th>\n",
       "      <th>fid</th>\n",
       "      <th>flight_num</th>\n",
       "      <th>origin_city</th>\n",
       "      <th>dest_city</th>\n",
       "      <th>distance</th>\n",
       "      <th>carrier_name</th>\n",
       "      <th>actual_time</th>\n",
       "      <th>departure_delay</th>\n",
       "      <th>arrival_delay</th>\n",
       "    </tr>\n",
       "  </thead>\n",
       "  <tbody>\n",
       "    <tr>\n",
       "      <td>65455</td>\n",
       "      <td>65456</td>\n",
       "      <td>179</td>\n",
       "      <td>Seattle WA</td>\n",
       "      <td>Ketchikan AK</td>\n",
       "      <td>680</td>\n",
       "      <td>Alaska Airlines Inc.</td>\n",
       "      <td>333</td>\n",
       "      <td>17</td>\n",
       "      <td>242</td>\n",
       "    </tr>\n",
       "    <tr>\n",
       "      <td>65478</td>\n",
       "      <td>65479</td>\n",
       "      <td>179</td>\n",
       "      <td>Seattle WA</td>\n",
       "      <td>Ketchikan AK</td>\n",
       "      <td>680</td>\n",
       "      <td>Alaska Airlines Inc.</td>\n",
       "      <td>340</td>\n",
       "      <td>0</td>\n",
       "      <td>388</td>\n",
       "    </tr>\n",
       "    <tr>\n",
       "      <td>67249</td>\n",
       "      <td>67250</td>\n",
       "      <td>338</td>\n",
       "      <td>Seattle WA</td>\n",
       "      <td>Long Beach CA</td>\n",
       "      <td>965</td>\n",
       "      <td>Alaska Airlines Inc.</td>\n",
       "      <td>427</td>\n",
       "      <td>21</td>\n",
       "      <td>435</td>\n",
       "    </tr>\n",
       "    <tr>\n",
       "      <td>72793</td>\n",
       "      <td>72794</td>\n",
       "      <td>662</td>\n",
       "      <td>Seattle WA</td>\n",
       "      <td>Las Vegas NV</td>\n",
       "      <td>866</td>\n",
       "      <td>Alaska Airlines Inc.</td>\n",
       "      <td>397</td>\n",
       "      <td>-2</td>\n",
       "      <td>397</td>\n",
       "    </tr>\n",
       "    <tr>\n",
       "      <td>488901</td>\n",
       "      <td>488902</td>\n",
       "      <td>876</td>\n",
       "      <td>Seattle WA</td>\n",
       "      <td>Denver CO</td>\n",
       "      <td>1024</td>\n",
       "      <td>United Air Lines Inc.</td>\n",
       "      <td>378</td>\n",
       "      <td>-3</td>\n",
       "      <td>251</td>\n",
       "    </tr>\n",
       "    <tr>\n",
       "      <td>712444</td>\n",
       "      <td>712445</td>\n",
       "      <td>448</td>\n",
       "      <td>Seattle WA</td>\n",
       "      <td>Los Angeles CA</td>\n",
       "      <td>954</td>\n",
       "      <td>Alaska Airlines Inc.</td>\n",
       "      <td>350</td>\n",
       "      <td>58</td>\n",
       "      <td>249</td>\n",
       "    </tr>\n",
       "    <tr>\n",
       "      <td>718318</td>\n",
       "      <td>718319</td>\n",
       "      <td>752</td>\n",
       "      <td>Seattle WA</td>\n",
       "      <td>Kansas City MO</td>\n",
       "      <td>1489</td>\n",
       "      <td>Alaska Airlines Inc.</td>\n",
       "      <td>312</td>\n",
       "      <td>2</td>\n",
       "      <td>103</td>\n",
       "    </tr>\n",
       "    <tr>\n",
       "      <td>765924</td>\n",
       "      <td>765925</td>\n",
       "      <td>395</td>\n",
       "      <td>Seattle WA</td>\n",
       "      <td>Salt Lake City UT</td>\n",
       "      <td>689</td>\n",
       "      <td>Delta Air Lines Inc.</td>\n",
       "      <td>351</td>\n",
       "      <td>-5</td>\n",
       "      <td>125</td>\n",
       "    </tr>\n",
       "    <tr>\n",
       "      <td>773145</td>\n",
       "      <td>773146</td>\n",
       "      <td>2547</td>\n",
       "      <td>Seattle WA</td>\n",
       "      <td>Minneapolis MN</td>\n",
       "      <td>1399</td>\n",
       "      <td>Delta Air Lines Inc.</td>\n",
       "      <td>360</td>\n",
       "      <td>0</td>\n",
       "      <td>345</td>\n",
       "    </tr>\n",
       "    <tr>\n",
       "      <td>1010986</td>\n",
       "      <td>1010987</td>\n",
       "      <td>1526</td>\n",
       "      <td>Seattle WA</td>\n",
       "      <td>Denver CO</td>\n",
       "      <td>1024</td>\n",
       "      <td>United Air Lines Inc.</td>\n",
       "      <td>456</td>\n",
       "      <td>15</td>\n",
       "      <td>406</td>\n",
       "    </tr>\n",
       "    <tr>\n",
       "      <td>1025448</td>\n",
       "      <td>1025449</td>\n",
       "      <td>784</td>\n",
       "      <td>Seattle WA</td>\n",
       "      <td>Los Angeles CA</td>\n",
       "      <td>954</td>\n",
       "      <td>Virgin America</td>\n",
       "      <td>438</td>\n",
       "      <td>32</td>\n",
       "      <td>315</td>\n",
       "    </tr>\n",
       "    <tr>\n",
       "      <td>1082442</td>\n",
       "      <td>1082443</td>\n",
       "      <td>3927</td>\n",
       "      <td>Seattle WA</td>\n",
       "      <td>Denver CO</td>\n",
       "      <td>1024</td>\n",
       "      <td>Southwest Airlines Co.</td>\n",
       "      <td>327</td>\n",
       "      <td>11</td>\n",
       "      <td>144</td>\n",
       "    </tr>\n",
       "    <tr>\n",
       "      <td>1096998</td>\n",
       "      <td>1096999</td>\n",
       "      <td>1771</td>\n",
       "      <td>Seattle WA</td>\n",
       "      <td>Las Vegas NV</td>\n",
       "      <td>867</td>\n",
       "      <td>Southwest Airlines Co.</td>\n",
       "      <td>380</td>\n",
       "      <td>20</td>\n",
       "      <td>34</td>\n",
       "    </tr>\n",
       "  </tbody>\n",
       "</table>\n",
       "</div>"
      ],
      "text/plain": [
       "             fid  flight_num origin_city          dest_city  distance  \\\n",
       "65455      65456         179  Seattle WA       Ketchikan AK       680   \n",
       "65478      65479         179  Seattle WA       Ketchikan AK       680   \n",
       "67249      67250         338  Seattle WA      Long Beach CA       965   \n",
       "72793      72794         662  Seattle WA       Las Vegas NV       866   \n",
       "488901    488902         876  Seattle WA          Denver CO      1024   \n",
       "712444    712445         448  Seattle WA     Los Angeles CA       954   \n",
       "718318    718319         752  Seattle WA     Kansas City MO      1489   \n",
       "765924    765925         395  Seattle WA  Salt Lake City UT       689   \n",
       "773145    773146        2547  Seattle WA     Minneapolis MN      1399   \n",
       "1010986  1010987        1526  Seattle WA          Denver CO      1024   \n",
       "1025448  1025449         784  Seattle WA     Los Angeles CA       954   \n",
       "1082442  1082443        3927  Seattle WA          Denver CO      1024   \n",
       "1096998  1096999        1771  Seattle WA       Las Vegas NV       867   \n",
       "\n",
       "                   carrier_name  actual_time  departure_delay  arrival_delay  \n",
       "65455      Alaska Airlines Inc.          333               17            242  \n",
       "65478      Alaska Airlines Inc.          340                0            388  \n",
       "67249      Alaska Airlines Inc.          427               21            435  \n",
       "72793      Alaska Airlines Inc.          397               -2            397  \n",
       "488901    United Air Lines Inc.          378               -3            251  \n",
       "712444     Alaska Airlines Inc.          350               58            249  \n",
       "718318     Alaska Airlines Inc.          312                2            103  \n",
       "765924     Delta Air Lines Inc.          351               -5            125  \n",
       "773145     Delta Air Lines Inc.          360                0            345  \n",
       "1010986   United Air Lines Inc.          456               15            406  \n",
       "1025448          Virgin America          438               32            315  \n",
       "1082442  Southwest Airlines Co.          327               11            144  \n",
       "1096998  Southwest Airlines Co.          380               20             34  "
      ]
     },
     "execution_count": 27,
     "metadata": {},
     "output_type": "execute_result"
    }
   ],
   "source": [
    "df_sea_flights[(df_sea_flights['distance']<=1500) & (df_sea_flights['actual_time']>300)]"
   ]
  },
  {
   "cell_type": "markdown",
   "metadata": {},
   "source": [
    "All of the cases presented above are not valid and should exclude from this analysis. Since we would like to have the expected time duration (which is not available) we can use the actual time to extrapolate. Using median for each flight number, origin city, dest city, and carrier id will allow us to exclude all outliers and get the closest possible flight duration to actual planned one.   "
   ]
  },
  {
   "cell_type": "code",
   "execution_count": 28,
   "metadata": {},
   "outputs": [],
   "source": [
    "median_flight_duration=df_sea_flights.groupby(['flight_num','carrier_name', 'origin_city', 'dest_city', \n",
    "                                               'distance'], as_index=False)['actual_time'].median()"
   ]
  },
  {
   "cell_type": "markdown",
   "metadata": {},
   "source": [
    "Take another look at the data:"
   ]
  },
  {
   "cell_type": "code",
   "execution_count": 36,
   "metadata": {},
   "outputs": [
    {
     "data": {
      "image/png": "[encoded data removed]",
      "text/plain": [
       "<Figure size 576x396 with 1 Axes>"
      ]
     },
     "metadata": {},
     "output_type": "display_data"
    }
   ],
   "source": [
    "fig = plt.figure()\n",
    "ax = fig.add_axes([0,0,1.2,1.2])\n",
    "ax.scatter(median_flight_duration.actual_time, median_flight_duration.distance, alpha=0.2)\n",
    "ax.set_xlabel('Median Actual Time [in minutes]', fontsize=14)\n",
    "ax.set_ylabel('Distance [in miles]', fontsize=14)\n",
    "ax.set_title('Median Actual Time vs Distance', fontsize=18)\n",
    "plt.xticks(fontsize=14)\n",
    "plt.yticks(fontsize=14)\n",
    "plt.show()\n"
   ]
  },
  {
   "cell_type": "markdown",
   "metadata": {},
   "source": [
    "Now the data looks much better. There is a clear correlation between the distance and flight duration, which is expected, longer flights take more time. \n",
    "To address the problem of recommending flight to fly as far as possible in least time from Seattle, we can look at this problem from 3 different solutions:\n",
    "1. Find the furthest destination which can be reached in shortest time\n",
    "2. Find the shortest destination which can be reached in shortest time \n",
    "3. Combine the two solutions above and find a flight which has the best ratio of flight duration to distance"
   ]
  },
  {
   "cell_type": "code",
   "execution_count": 30,
   "metadata": {},
   "outputs": [
    {
     "data": {
      "text/html": [
       "<div>\n",
       "<style scoped>\n",
       "    .dataframe tbody tr th:only-of-type {\n",
       "        vertical-align: middle;\n",
       "    }\n",
       "\n",
       "    .dataframe tbody tr th {\n",
       "        vertical-align: top;\n",
       "    }\n",
       "\n",
       "    .dataframe thead th {\n",
       "        text-align: right;\n",
       "    }\n",
       "</style>\n",
       "<table border=\"1\" class=\"dataframe\">\n",
       "  <thead>\n",
       "    <tr style=\"text-align: right;\">\n",
       "      <th></th>\n",
       "      <th>flight_num</th>\n",
       "      <th>carrier_name</th>\n",
       "      <th>origin_city</th>\n",
       "      <th>dest_city</th>\n",
       "      <th>distance</th>\n",
       "      <th>actual_time</th>\n",
       "    </tr>\n",
       "  </thead>\n",
       "  <tbody>\n",
       "    <tr>\n",
       "      <td>14</td>\n",
       "      <td>16</td>\n",
       "      <td>Alaska Airlines Inc.</td>\n",
       "      <td>Seattle WA</td>\n",
       "      <td>Miami FL</td>\n",
       "      <td>2724</td>\n",
       "      <td>327.0</td>\n",
       "    </tr>\n",
       "    <tr>\n",
       "      <td>582</td>\n",
       "      <td>1070</td>\n",
       "      <td>American Airlines Inc.</td>\n",
       "      <td>Seattle WA</td>\n",
       "      <td>Miami FL</td>\n",
       "      <td>2724</td>\n",
       "      <td>345.0</td>\n",
       "    </tr>\n",
       "    <tr>\n",
       "      <td>34</td>\n",
       "      <td>38</td>\n",
       "      <td>Alaska Airlines Inc.</td>\n",
       "      <td>Seattle WA</td>\n",
       "      <td>Fort Lauderdale FL</td>\n",
       "      <td>2717</td>\n",
       "      <td>346.0</td>\n",
       "    </tr>\n",
       "  </tbody>\n",
       "</table>\n",
       "</div>"
      ],
      "text/plain": [
       "     flight_num            carrier_name origin_city           dest_city  \\\n",
       "14           16    Alaska Airlines Inc.  Seattle WA            Miami FL   \n",
       "582        1070  American Airlines Inc.  Seattle WA            Miami FL   \n",
       "34           38    Alaska Airlines Inc.  Seattle WA  Fort Lauderdale FL   \n",
       "\n",
       "     distance  actual_time  \n",
       "14       2724        327.0  \n",
       "582      2724        345.0  \n",
       "34       2717        346.0  "
      ]
     },
     "execution_count": 30,
     "metadata": {},
     "output_type": "execute_result"
    }
   ],
   "source": [
    "median_flight_duration.sort_values(by=['distance', 'actual_time'], ascending=[False, True]).head(3)"
   ]
  },
  {
   "cell_type": "markdown",
   "metadata": {},
   "source": [
    "The furthest destination which can be reached from Seattle in shortest period of time is flight 16 offered by Alaska \n",
    "Airlines Inc to Miami."
   ]
  },
  {
   "cell_type": "code",
   "execution_count": 31,
   "metadata": {},
   "outputs": [
    {
     "data": {
      "text/html": [
       "<div>\n",
       "<style scoped>\n",
       "    .dataframe tbody tr th:only-of-type {\n",
       "        vertical-align: middle;\n",
       "    }\n",
       "\n",
       "    .dataframe tbody tr th {\n",
       "        vertical-align: top;\n",
       "    }\n",
       "\n",
       "    .dataframe thead th {\n",
       "        text-align: right;\n",
       "    }\n",
       "</style>\n",
       "<table border=\"1\" class=\"dataframe\">\n",
       "  <thead>\n",
       "    <tr style=\"text-align: right;\">\n",
       "      <th></th>\n",
       "      <th>flight_num</th>\n",
       "      <th>carrier_name</th>\n",
       "      <th>origin_city</th>\n",
       "      <th>dest_city</th>\n",
       "      <th>distance</th>\n",
       "      <th>actual_time</th>\n",
       "    </tr>\n",
       "  </thead>\n",
       "  <tbody>\n",
       "    <tr>\n",
       "      <td>944</td>\n",
       "      <td>6344</td>\n",
       "      <td>SkyWest Airlines Inc.</td>\n",
       "      <td>Seattle WA</td>\n",
       "      <td>Portland OR</td>\n",
       "      <td>129</td>\n",
       "      <td>41.0</td>\n",
       "    </tr>\n",
       "    <tr>\n",
       "      <td>945</td>\n",
       "      <td>6346</td>\n",
       "      <td>SkyWest Airlines Inc.</td>\n",
       "      <td>Seattle WA</td>\n",
       "      <td>Portland OR</td>\n",
       "      <td>129</td>\n",
       "      <td>42.0</td>\n",
       "    </tr>\n",
       "    <tr>\n",
       "      <td>942</td>\n",
       "      <td>6341</td>\n",
       "      <td>SkyWest Airlines Inc.</td>\n",
       "      <td>Seattle WA</td>\n",
       "      <td>Portland OR</td>\n",
       "      <td>129</td>\n",
       "      <td>43.0</td>\n",
       "    </tr>\n",
       "  </tbody>\n",
       "</table>\n",
       "</div>"
      ],
      "text/plain": [
       "     flight_num           carrier_name origin_city    dest_city  distance  \\\n",
       "944        6344  SkyWest Airlines Inc.  Seattle WA  Portland OR       129   \n",
       "945        6346  SkyWest Airlines Inc.  Seattle WA  Portland OR       129   \n",
       "942        6341  SkyWest Airlines Inc.  Seattle WA  Portland OR       129   \n",
       "\n",
       "     actual_time  \n",
       "944         41.0  \n",
       "945         42.0  \n",
       "942         43.0  "
      ]
     },
     "execution_count": 31,
     "metadata": {},
     "output_type": "execute_result"
    }
   ],
   "source": [
    "median_flight_duration.sort_values(by=['distance','actual_time'], ascending=[True, True]).head(3)"
   ]
  },
  {
   "cell_type": "markdown",
   "metadata": {},
   "source": [
    "The shortest flight from Seattle is the one offered by SkyWest Airlines Inc., flight 6344 to Portland."
   ]
  },
  {
   "cell_type": "markdown",
   "metadata": {},
   "source": [
    "Now, let explore the 3rd solution, which looks at the ratio of flight duration to distance:"
   ]
  },
  {
   "cell_type": "code",
   "execution_count": 32,
   "metadata": {},
   "outputs": [
    {
     "data": {
      "text/html": [
       "<div>\n",
       "<style scoped>\n",
       "    .dataframe tbody tr th:only-of-type {\n",
       "        vertical-align: middle;\n",
       "    }\n",
       "\n",
       "    .dataframe tbody tr th {\n",
       "        vertical-align: top;\n",
       "    }\n",
       "\n",
       "    .dataframe thead th {\n",
       "        text-align: right;\n",
       "    }\n",
       "</style>\n",
       "<table border=\"1\" class=\"dataframe\">\n",
       "  <thead>\n",
       "    <tr style=\"text-align: right;\">\n",
       "      <th></th>\n",
       "      <th>flight_num</th>\n",
       "      <th>carrier_name</th>\n",
       "      <th>origin_city</th>\n",
       "      <th>dest_city</th>\n",
       "      <th>distance</th>\n",
       "      <th>actual_time</th>\n",
       "      <th>duration_to_distance</th>\n",
       "    </tr>\n",
       "  </thead>\n",
       "  <tbody>\n",
       "    <tr>\n",
       "      <td>658</td>\n",
       "      <td>1454</td>\n",
       "      <td>United Air Lines Inc.</td>\n",
       "      <td>Seattle WA</td>\n",
       "      <td>Washington DC</td>\n",
       "      <td>2306</td>\n",
       "      <td>270.0</td>\n",
       "      <td>0.117086</td>\n",
       "    </tr>\n",
       "    <tr>\n",
       "      <td>588</td>\n",
       "      <td>1088</td>\n",
       "      <td>United Air Lines Inc.</td>\n",
       "      <td>Seattle WA</td>\n",
       "      <td>Washington DC</td>\n",
       "      <td>2306</td>\n",
       "      <td>270.5</td>\n",
       "      <td>0.117303</td>\n",
       "    </tr>\n",
       "    <tr>\n",
       "      <td>572</td>\n",
       "      <td>1026</td>\n",
       "      <td>Continental Air Lines Inc.</td>\n",
       "      <td>Seattle WA</td>\n",
       "      <td>Houston TX</td>\n",
       "      <td>1874</td>\n",
       "      <td>221.0</td>\n",
       "      <td>0.117930</td>\n",
       "    </tr>\n",
       "    <tr>\n",
       "      <td>214</td>\n",
       "      <td>352</td>\n",
       "      <td>United Air Lines Inc.</td>\n",
       "      <td>Seattle WA</td>\n",
       "      <td>Washington DC</td>\n",
       "      <td>2306</td>\n",
       "      <td>273.0</td>\n",
       "      <td>0.118387</td>\n",
       "    </tr>\n",
       "    <tr>\n",
       "      <td>392</td>\n",
       "      <td>608</td>\n",
       "      <td>United Air Lines Inc.</td>\n",
       "      <td>Seattle WA</td>\n",
       "      <td>Washington DC</td>\n",
       "      <td>2306</td>\n",
       "      <td>276.0</td>\n",
       "      <td>0.119688</td>\n",
       "    </tr>\n",
       "  </tbody>\n",
       "</table>\n",
       "</div>"
      ],
      "text/plain": [
       "     flight_num                carrier_name origin_city      dest_city  \\\n",
       "658        1454       United Air Lines Inc.  Seattle WA  Washington DC   \n",
       "588        1088       United Air Lines Inc.  Seattle WA  Washington DC   \n",
       "572        1026  Continental Air Lines Inc.  Seattle WA     Houston TX   \n",
       "214         352       United Air Lines Inc.  Seattle WA  Washington DC   \n",
       "392         608       United Air Lines Inc.  Seattle WA  Washington DC   \n",
       "\n",
       "     distance  actual_time  duration_to_distance  \n",
       "658      2306        270.0              0.117086  \n",
       "588      2306        270.5              0.117303  \n",
       "572      1874        221.0              0.117930  \n",
       "214      2306        273.0              0.118387  \n",
       "392      2306        276.0              0.119688  "
      ]
     },
     "execution_count": 32,
     "metadata": {},
     "output_type": "execute_result"
    }
   ],
   "source": [
    "# get the ratio of time (flight duration) to distance\n",
    "median_flight_duration['duration_to_distance'] = median_flight_duration['actual_time']/median_flight_duration['distance']\n",
    "# get the first 5 flights with smallest ratio\n",
    "median_flight_duration.sort_values(by='duration_to_distance', ascending=True).head(5)"
   ]
  },
  {
   "cell_type": "markdown",
   "metadata": {},
   "source": [
    "The best ratio of flight duration to distance is for flights from Seattle to Washington DC offered \n",
    "by United Air Lines Inc (e.g. flight 1454, 1088). Also, flight from Seattle WA to Houston TX offered by \n",
    "Continental Air Lines Inc. has a very similar ratio of time to distance.\n",
    "\n",
    "Next look how the ratio of duratio to distance looks like when compared to distance."
   ]
  },
  {
   "cell_type": "code",
   "execution_count": 35,
   "metadata": {},
   "outputs": [
    {
     "data": {
      "image/png": "[encoded data removed]",
      "text/plain": [
       "<Figure size 576x396 with 1 Axes>"
      ]
     },
     "metadata": {},
     "output_type": "display_data"
    }
   ],
   "source": [
    "ratio_distance=median_flight_duration.groupby(['distance'], as_index=False)['duration_to_distance'].median()\n",
    "\n",
    "# to get the trend line\n",
    "z = np.polyfit(ratio_distance['distance'], ratio_distance['duration_to_distance'], 3)\n",
    "p = np.poly1d(z)\n",
    "t = np.linspace(50, 2700)\n",
    "\n",
    "fig = plt.figure()\n",
    "ax = fig.add_axes([0,0,1.2,1.2])\n",
    "ax.plot(ratio_distance.distance, ratio_distance.duration_to_distance)\n",
    "ax.set_xlabel('Distance', fontsize=14)\n",
    "ax.set_ylabel('Ratio of Duration to DistanceDistance [in miles]', fontsize=14)\n",
    "ax.set_title('Distance vs Ratio of Flight Duration to Distance', fontsize=18)\n",
    "plt.plot(t, p(t),'r--')\n",
    "plt.xticks(fontsize=14)\n",
    "plt.yticks(fontsize=14)\n",
    "plt.show()"
   ]
  },
  {
   "cell_type": "markdown",
   "metadata": {},
   "source": [
    "On the chart above, we see short flights have the worst ratio of flight duration to distance, which is expected since taking off and landing take a lot of time. However, we also see that after roughly 1700 miles to 2000 miles the ratio does not improve a lot so it is worth to consider all destinations which are more than 1700 miles from Seattle.\n",
    "\n"
   ]
  },
  {
   "cell_type": "markdown",
   "metadata": {},
   "source": [
    "### Alternative Solution "
   ]
  },
  {
   "cell_type": "markdown",
   "metadata": {},
   "source": [
    "Anther possible solutions to this problem would be calculating the expected flight time based on the actual time, \n",
    "departure delay and arrival delay for each flight number, origin city, dest city:\n",
    "\n",
    "`expected_time = (actual time + departure delay - arrivale delay)`\n",
    "\n",
    "After that we would follow the same logic as we did when using the actual time."
   ]
  }
 ],
 "metadata": {
  "kernelspec": {
   "display_name": "Python 3",
   "language": "python",
   "name": "python3"
  },
  "language_info": {
   "codemirror_mode": {
    "name": "ipython",
    "version": 3
   },
   "file_extension": ".py",
   "mimetype": "text/x-python",
   "name": "python",
   "nbconvert_exporter": "python",
   "pygments_lexer": "ipython3",
   "version": "3.7.4"
  }
 },
 "nbformat": 4,
 "nbformat_minor": 2
}
